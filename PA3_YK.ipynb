{
 "cells": [
  {
   "cell_type": "markdown",
   "id": "ee876324-db55-48ca-b49f-88560878b266",
   "metadata": {},
   "source": [
    "# Programming Assignment 3\n",
    "---\n",
    "**Author:** Yeva Kramarova  \n",
    "**Version:** 1.0  \n",
    "**Semester:** Spring 2024 \n",
    "\n",
    "This *notebook* contains my solution(s) to **Programming Assignment 3**\n",
    "\n",
    "- Problem 1: Geometry Calculator.\n",
    "- Problem 2: Horse Computations.\n",
    "- Problem 3: Mean Temperature."
   ]
  },
  {
   "cell_type": "markdown",
   "id": "660d56ac-8a20-465a-afec-8fcb9689fe3d",
   "metadata": {},
   "source": [
    "### Problem 1 - Geometry Calculator"
   ]
  },
  {
   "cell_type": "code",
   "execution_count": 1,
   "id": "ebcf32cd-0b1e-4aba-8a53-537a45f39e3a",
   "metadata": {
    "tags": []
   },
   "outputs": [
    {
     "name": "stdout",
     "output_type": "stream",
     "text": [
      "Choose a shape to calculate its area and perimeter:\n",
      "S - Square\n",
      "TRI - Triangle\n",
      "C - Circle\n",
      "R - Rectangle\n",
      "E - Ellipse\n",
      "TRAP - Trapezoid\n",
      "Q - Quit\n"
     ]
    },
    {
     "name": "stdin",
     "output_type": "stream",
     "text": [
      "Enter your choice:  TRI\n",
      "Enter the length of the base of the triangle:  6\n",
      "Enter the height of the triangle:  4\n"
     ]
    },
    {
     "name": "stdout",
     "output_type": "stream",
     "text": [
      "Area: 12.0\n",
      "Perimeter: 17.21110255092798\n",
      "Choose a shape to calculate its area and perimeter:\n",
      "S - Square\n",
      "TRI - Triangle\n",
      "C - Circle\n",
      "R - Rectangle\n",
      "E - Ellipse\n",
      "TRAP - Trapezoid\n",
      "Q - Quit\n"
     ]
    },
    {
     "name": "stdin",
     "output_type": "stream",
     "text": [
      "Enter your choice:  Q\n"
     ]
    },
    {
     "name": "stdout",
     "output_type": "stream",
     "text": [
      "Exiting the program.\n"
     ]
    }
   ],
   "source": [
    "import math\n",
    "\n",
    "def calculate_square():\n",
    "    side = float(input(\"Enter the length of a side of the square: \"))\n",
    "    area = side ** 2\n",
    "    perimeter = 4 * side\n",
    "    return area, perimeter\n",
    "\n",
    "def calculate_triangle():\n",
    "    base = float(input(\"Enter the length of the base of the triangle: \"))\n",
    "    height = float(input(\"Enter the height of the triangle: \"))\n",
    "    area = 0.5 * base * height\n",
    "    hypotenuse = math.sqrt(base**2 + height**2)\n",
    "    perimeter = base + height + hypotenuse\n",
    "    return area, perimeter\n",
    "\n",
    "def calculate_circle():\n",
    "    radius = float(input(\"Enter the radius of the circle: \"))\n",
    "    area = math.pi * radius ** 2\n",
    "    perimeter = 2 * math.pi * radius\n",
    "    return area, perimeter\n",
    "\n",
    "def calculate_rectangle():\n",
    "    length = float(input(\"Enter the length of the rectangle: \"))\n",
    "    width = float(input(\"Enter the width of the rectangle: \"))\n",
    "    area = length * width\n",
    "    perimeter = 2 * (length + width)\n",
    "    return area, perimeter\n",
    "\n",
    "def calculate_ellipse():\n",
    "    a = float(input(\"Enter the length of the semi-major axis (a) of the ellipse: \"))\n",
    "    b = float(input(\"Enter the length of the semi-minor axis (b) of the ellipse: \"))\n",
    "    area = math.pi * a * b\n",
    "    perimeter_approximation = math.pi * ((3*(a+b)) - math.sqrt((3*a+b)*(a+3*b)))\n",
    "    return area, perimeter_approximation\n",
    "\n",
    "def calculate_trapezoid():\n",
    "    a = float(input(\"Enter the length of the top base of the trapezoid: \"))\n",
    "    b = float(input(\"Enter the length of the bottom base of the trapezoid: \"))\n",
    "    height = float(input(\"Enter the height of the trapezoid: \"))\n",
    "    area = 0.5 * (a + b) * height\n",
    "    perimeter = a + b + 2 * math.sqrt((0.5 * (a - b))**2 + height**2)\n",
    "    return area, perimeter\n",
    "\n",
    "def main():\n",
    "    while True:\n",
    "        print(\"Choose a shape to calculate its area and perimeter:\")\n",
    "        print(\"S - Square\")\n",
    "        print(\"TRI - Triangle\")\n",
    "        print(\"C - Circle\")\n",
    "        print(\"R - Rectangle\")\n",
    "        print(\"E - Ellipse\")\n",
    "        print(\"TRAP - Trapezoid\")\n",
    "        print(\"Q - Quit\")\n",
    "\n",
    "        choice = input(\"Enter your choice: \").upper()\n",
    "\n",
    "        if choice == \"Q\":\n",
    "            print(\"Exiting the program.\")\n",
    "            break\n",
    "        elif choice == \"S\":\n",
    "            area, perimeter = calculate_square()\n",
    "        elif choice == \"TRI\":\n",
    "            area, perimeter = calculate_triangle()\n",
    "        elif choice == \"C\":\n",
    "            area, perimeter = calculate_circle()\n",
    "        elif choice == \"R\":\n",
    "            area, perimeter = calculate_rectangle()\n",
    "        elif choice == \"E\":\n",
    "            area, perimeter = calculate_ellipse()\n",
    "        elif choice == \"TRAP\":\n",
    "            area, perimeter = calculate_trapezoid()\n",
    "        else:\n",
    "            print(\"That is not a valid option.\")\n",
    "            continue\n",
    "\n",
    "        print(f\"Area: {area}\")\n",
    "        print(f\"Perimeter: {perimeter}\")\n",
    "\n",
    "if __name__ == \"__main__\":\n",
    "    main()\n"
   ]
  },
  {
   "cell_type": "markdown",
   "id": "7e750cc0-120a-4701-948d-a375161bf0ea",
   "metadata": {},
   "source": [
    "### Problem 2 - Horse Computations"
   ]
  },
  {
   "cell_type": "code",
   "execution_count": 2,
   "id": "0dc4f5b6-9d2a-425a-ac12-1880c8d82c00",
   "metadata": {
    "tags": []
   },
   "outputs": [
    {
     "name": "stdout",
     "output_type": "stream",
     "text": [
      "Choose a unit to convert:\n",
      "H - Hands to Feet\n",
      "L - Lengths to Feet\n",
      "Q - Quit\n"
     ]
    },
    {
     "name": "stdin",
     "output_type": "stream",
     "text": [
      "Enter your choice:  H\n",
      "Enter the number of hands:  8\n"
     ]
    },
    {
     "name": "stdout",
     "output_type": "stream",
     "text": [
      "8.0 hands is equal to 2.6666666666666665 feet.\n",
      "Choose a unit to convert:\n",
      "H - Hands to Feet\n",
      "L - Lengths to Feet\n",
      "Q - Quit\n"
     ]
    },
    {
     "name": "stdin",
     "output_type": "stream",
     "text": [
      "Enter your choice:  Q\n"
     ]
    },
    {
     "name": "stdout",
     "output_type": "stream",
     "text": [
      "Exiting the program.\n"
     ]
    }
   ],
   "source": [
    "def convert_hands(hands=5):\n",
    "    feet = hands * 4 / 12\n",
    "    return feet\n",
    "\n",
    "def convert_length(length=1):\n",
    "    feet = length * 8\n",
    "    return feet\n",
    "\n",
    "def main():\n",
    "    while True:\n",
    "        print(\"Choose a unit to convert:\")\n",
    "        print(\"H - Hands to Feet\")\n",
    "        print(\"L - Lengths to Feet\")\n",
    "        print(\"Q - Quit\")\n",
    "\n",
    "        choice = input(\"Enter your choice: \").upper()\n",
    "\n",
    "        if choice == \"Q\":\n",
    "            print(\"Exiting the program.\")\n",
    "            break\n",
    "        elif choice == \"H\":\n",
    "            hands = float(input(\"Enter the number of hands: \"))\n",
    "            feet = convert_hands(hands)\n",
    "            print(f\"{hands} hands is equal to {feet} feet.\")\n",
    "        elif choice == \"L\":\n",
    "            lengths = float(input(\"Enter the number of lengths: \"))\n",
    "            feet = convert_length(lengths)\n",
    "            print(f\"{lengths} lengths is equal to {feet} feet.\")\n",
    "        else:\n",
    "            print(\"That is not a valid option.\")\n",
    "            continue\n",
    "\n",
    "if __name__ == \"__main__\":\n",
    "    main()\n"
   ]
  },
  {
   "cell_type": "markdown",
   "id": "423e73f6-4994-489b-b1f3-91ffd8a3a339",
   "metadata": {},
   "source": [
    "### Problem 3 - Mean Temperature"
   ]
  },
  {
   "cell_type": "code",
   "execution_count": 4,
   "id": "899937c7-e7c4-46c9-a9b9-80059bfe22b0",
   "metadata": {
    "tags": []
   },
   "outputs": [
    {
     "name": "stdout",
     "output_type": "stream",
     "text": [
      "The mean temperature for the past 7 days is 87.86 degrees F.\n"
     ]
    }
   ],
   "source": [
    "import statistics\n",
    "\n",
    "def meanTemp(*temperatures):\n",
    "    num_days = len(temperatures)\n",
    "    mean = statistics.mean(temperatures)\n",
    "    return mean, num_days\n",
    "\n",
    "temps = 85, 89, 90, 88, 87, 86, 90\n",
    "\n",
    "mean_temperature, num_days = meanTemp(*temps)\n",
    "print(f\"The mean temperature for the past {num_days} days is {mean_temperature:.2f} degrees F.\")\n"
   ]
  },
  {
   "cell_type": "code",
   "execution_count": null,
   "id": "7f72d9ee-d3f3-4855-8a31-141f4919e17d",
   "metadata": {},
   "outputs": [],
   "source": []
  }
 ],
 "metadata": {
  "kernelspec": {
   "display_name": "Python 3 (ipykernel)",
   "language": "python",
   "name": "python3"
  },
  "language_info": {
   "codemirror_mode": {
    "name": "ipython",
    "version": 3
   },
   "file_extension": ".py",
   "mimetype": "text/x-python",
   "name": "python",
   "nbconvert_exporter": "python",
   "pygments_lexer": "ipython3",
   "version": "3.11.5"
  }
 },
 "nbformat": 4,
 "nbformat_minor": 5
}
